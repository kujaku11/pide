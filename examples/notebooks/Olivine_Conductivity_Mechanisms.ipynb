{
 "cells": [
  {
   "cell_type": "markdown",
   "id": "8ca895e6",
   "metadata": {},
   "source": [
    "## <span style=\"color:purple\"> Plotting Olivine Conduction Mechanisms </span>\n",
    "<span style=\"color:purple\">Sinan Ozaydin, School of Geosciences, The University of Sydney, NSW 2006, Australia <br/> </span>\n",
    "<span style=\"color:purple\">sinan.ozaydin@protonmail.com</span>"
   ]
  },
  {
   "cell_type": "markdown",
   "id": "2ce0b904",
   "metadata": {},
   "source": [
    "This jupyter notebook calculates selected olivine conductivities to compare the conduction mechanisms. The conduction mechanisms in olivine can be summed up as:\n",
    "\n",
    "$$\\sigma_{tot} = \\sigma_{ion} + \\sigma_{pol} + \\sigma_{p} \\qquad \\text{(1)}$$ \n",
    "\n",
    "All of them are temperature dependent semi-conduction and follow an Arrhenian formalism:\n",
    "\n",
    "$$\\sigma = \\sigma_0 exp(-\\frac{\\Delta H}{RT}) \\qquad \\text{(2)}$$\n",
    "\n",
    "where $\\sigma_0$ is pre-exponent in (S/m), $\\Delta H$ is activation enthalpy in J/mol, R is the gas constant in J/mol.K and T is temperature in Kelvin (K). In ***pide***, the summation of these mechanisms (1) can be summarised in the following default form:\n",
    "\n",
    "$$\\sigma_{tot} = \\sigma_0^{ion} exp(-\\frac{\\Delta H^{ion}}{RT}) + \\sigma_0^{pol} exp(-\\frac{\\Delta H^{pol}}{RT})  + \\sigma_0^{p} C_w^r exp(-\\frac{\\Delta H^{p} + \\alpha C_w}{RT}) \\qquad \\text{(3)}$$\n",
    "\n",
    "where $C_w$ is water ($OH^{-}$) content in wt %, $r$ is the water exponent, $\\alpha$ is water-related enthalpy modifier. Other formalisms such as, the ones that deal with effect of pressure or certain compositional variations are included the software differently, but how to work with them from a user perspective is the same. In this notebook, we will go through these examples and try to plot different olivine conductivity models with their mechanisms.\n",
    "\n",
    "Firstly, importing the neccesary libraries:"
   ]
  },
  {
   "cell_type": "code",
   "execution_count": 3,
   "id": "0f736d16",
   "metadata": {},
   "outputs": [],
   "source": [
    "import pide\n",
    "import numpy as np\n",
    "import matplotlib.pyplot as plt"
   ]
  },
  {
   "cell_type": "markdown",
   "id": "dfc81a87",
   "metadata": {},
   "source": [
    "Now let's calculate, olivine conductivities of "
   ]
  },
  {
   "cell_type": "code",
   "execution_count": 15,
   "id": "f41b5e3c",
   "metadata": {},
   "outputs": [
    {
     "name": "stdout",
     "output_type": "stream",
     "text": [
      "[8.63602770e-12 1.11928189e-11 1.44450353e-11 1.85650640e-11\n",
      " 2.37638383e-11 3.02985052e-11 3.84814246e-11 4.86906938e-11\n",
      " 6.13824176e-11 7.71049674e-11 9.65154985e-11 1.20399029e-10\n",
      " 1.49690408e-10 1.85499542e-10 2.29140274e-10 2.82163366e-10\n",
      " 3.46394054e-10 4.23974698e-10 5.17413110e-10 6.29637157e-10\n",
      " 7.64056318e-10 9.24630909e-10 1.11594975e-09 1.34331711e-09\n",
      " 1.61284981e-09 1.93158545e-09 2.30760274e-09 2.75015508e-09\n",
      " 3.26981849e-09 3.87865508e-09 4.59039343e-09 5.42062714e-09\n",
      " 6.38703309e-09 7.50961080e-09 8.81094456e-09 1.03164899e-08\n",
      " 1.20548864e-08 1.40582979e-08 1.63627832e-08 1.90086981e-08\n",
      " 2.20411312e-08 2.55103759e-08 2.94724403e-08 3.39895973e-08\n",
      " 3.91309776e-08 4.49732079e-08 5.16010958e-08 5.91083656e-08\n",
      " 6.75984466e-08 7.71853157e-08 9.50710294e-08 1.07780003e-07\n",
      " 1.22009763e-07 1.37920352e-07 1.55686247e-07 1.75497425e-07\n",
      " 1.97560495e-07 2.22099887e-07 2.49359113e-07 2.79602079e-07\n",
      " 3.13114484e-07 3.50205276e-07 3.91208183e-07 4.36483323e-07\n",
      " 4.86418883e-07 5.41432881e-07 6.01975005e-07 6.68528538e-07\n",
      " 7.41612360e-07 8.21783040e-07 9.09637012e-07 1.00581284e-06\n",
      " 1.11099359e-06 1.22590925e-06 1.35133927e-06 1.48811525e-06\n",
      " 1.63712361e-06 1.79930843e-06 1.97567439e-06 2.16728981e-06\n",
      " 2.37528974e-06 2.60087918e-06 2.84533647e-06 3.11001665e-06\n",
      " 3.39635502e-06 3.70587079e-06 4.04017080e-06 4.40095338e-06\n",
      " 4.79001228e-06 5.20924076e-06 5.66063571e-06 6.14630193e-06\n",
      " 6.66845650e-06 7.22943326e-06 7.83168737e-06 8.47780000e-06\n",
      " 9.17048310e-06 9.91258430e-06 1.07070919e-05 1.15571399e-05\n",
      " 1.24660132e-05 1.34371531e-05 1.44741623e-05 1.55808106e-05\n",
      " 1.67610405e-05 1.80189727e-05 1.93589119e-05 2.07853530e-05\n",
      " 2.23029864e-05 2.39167044e-05 2.56316073e-05 2.74530095e-05\n",
      " 2.93864458e-05 3.14376775e-05 3.36126993e-05 3.59177454e-05\n",
      " 3.83592961e-05 4.09440844e-05 4.36791031e-05 4.65716108e-05\n",
      " 4.96291393e-05 5.28595003e-05 5.62707924e-05 5.98714076e-05\n",
      " 6.36700391e-05 6.76756876e-05 7.18976690e-05 7.63456212e-05\n",
      " 8.10295112e-05 8.59596428e-05 9.11466631e-05 9.66015705e-05\n",
      " 1.02335721e-04 1.08360838e-04 1.14689015e-04 1.21332729e-04\n",
      " 1.28304840e-04 1.35618608e-04 1.43287693e-04 1.51326163e-04\n",
      " 1.59748505e-04 1.68569630e-04 1.77804880e-04 1.87470038e-04\n",
      " 1.97581329e-04 2.08155437e-04 2.19209501e-04 2.30761133e-04\n",
      " 2.42828417e-04 2.55429921e-04 2.68584702e-04 2.82312312e-04\n",
      " 2.96632810e-04 3.11566762e-04 3.27135254e-04 3.43359895e-04\n",
      " 3.60262825e-04 3.77866725e-04 3.96194816e-04 4.15270875e-04\n",
      " 4.35119233e-04 4.55764787e-04 4.77233007e-04 4.99549936e-04\n",
      " 5.22742204e-04 5.46837029e-04 5.71862226e-04 5.97846210e-04\n",
      " 6.24818005e-04 6.52807249e-04 6.81844199e-04 7.11959735e-04\n",
      " 7.43185371e-04 7.75553254e-04 8.09096174e-04 8.43847568e-04\n",
      " 8.79841523e-04 9.17112784e-04 9.55696757e-04 9.95629514e-04\n",
      " 1.03694780e-03 1.07968903e-03 1.12389132e-03 1.16959343e-03\n",
      " 1.21683485e-03 1.26565574e-03 1.31609696e-03 1.36820008e-03\n",
      " 1.42200736e-03 1.47756178e-03 1.53490703e-03 1.59408750e-03\n",
      " 1.65514832e-03 1.71813533e-03 1.78309508e-03 1.85007487e-03\n",
      " 1.91912273e-03 1.99028739e-03 2.06361835e-03 2.13916584e-03\n",
      " 2.21698080e-03 2.29711495e-03 2.37962073e-03 2.46455132e-03\n",
      " 2.55196067e-03 2.64190345e-03 2.73443509e-03 2.82961177e-03\n",
      " 2.92749042e-03 3.02812873e-03 3.13158513e-03 3.23791881e-03\n",
      " 3.34718970e-03 3.45945851e-03 3.57478667e-03 3.69323640e-03\n",
      " 3.81487065e-03 3.93975312e-03 4.06794830e-03 4.19952138e-03\n",
      " 4.33453833e-03 4.47306589e-03 4.61517152e-03 4.76092344e-03\n",
      " 4.91039062e-03 5.06364278e-03 5.22075038e-03 5.38178463e-03\n",
      " 5.54681747e-03 5.71592160e-03 5.88917045e-03 6.06663818e-03\n",
      " 6.24839969e-03 6.43453063e-03 6.62510734e-03 6.82020693e-03\n",
      " 7.01990721e-03 7.22428673e-03 7.43342473e-03 7.64740119e-03\n",
      " 7.86629681e-03 8.09019297e-03 8.31917179e-03 8.55331606e-03\n",
      " 8.79270931e-03 9.03743573e-03 9.28758021e-03 9.54322835e-03\n",
      " 9.80446641e-03 1.00713813e-02 1.03440608e-02 1.06225930e-02\n",
      " 1.09070670e-02 1.11975723e-02 1.14941994e-02 1.17970390e-02\n",
      " 1.21061829e-02 1.24217232e-02 1.27437528e-02 1.30723652e-02\n",
      " 1.34076545e-02 1.37497156e-02 1.40986438e-02 1.44545351e-02\n",
      " 1.48174861e-02 1.51875939e-02 1.55649565e-02 1.59496721e-02\n",
      " 1.63418398e-02 1.67415592e-02 1.71489303e-02 1.75640538e-02\n",
      " 1.79870311e-02 1.84179639e-02 1.88569547e-02 1.93041062e-02\n",
      " 1.97595220e-02 2.02233061e-02 2.06955630e-02 2.11763976e-02]\n"
     ]
    }
   ],
   "source": [
    "p_obj = pide.pide() #forming the pide object\n",
    "\n",
    "#Setting up temperature array ranging from 600 to 2000K at each 5 degrees.\n",
    "temperature = np.arange(600,2000,5) \n",
    "p_obj.set_temperature(temperature)\n",
    "p_obj.set_pressure(1.0)\n",
    "p_obj.set_mineral_conductivity_choice(ol = 0)\n",
    "idx_ol = p_obj.get_mineral_index('ol') #getting olivine index\n",
    "cond = p_obj.calculate_mineral_conductivity(method = 'array', min_idx= idx_ol)\n",
    "print(cond)\n"
   ]
  },
  {
   "cell_type": "code",
   "execution_count": null,
   "id": "7fe5658a",
   "metadata": {},
   "outputs": [],
   "source": []
  }
 ],
 "metadata": {
  "kernelspec": {
   "display_name": "Python 3 (ipykernel)",
   "language": "python",
   "name": "python3"
  },
  "language_info": {
   "codemirror_mode": {
    "name": "ipython",
    "version": 3
   },
   "file_extension": ".py",
   "mimetype": "text/x-python",
   "name": "python",
   "nbconvert_exporter": "python",
   "pygments_lexer": "ipython3",
   "version": "3.10.12"
  }
 },
 "nbformat": 4,
 "nbformat_minor": 5
}
