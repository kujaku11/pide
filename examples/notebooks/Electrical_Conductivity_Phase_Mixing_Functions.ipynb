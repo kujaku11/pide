{
 "cells": [
  {
   "cell_type": "markdown",
   "id": "cd7dbda5-27f7-4220-bf68-625441dc43ba",
   "metadata": {},
   "source": [
    "## <span style=\"color:green\"> Notebook - Phase mixing functions </span>\n",
    "<span style=\"color:purple\">Sinan Ozaydin, School of Geosciences, The University of Sydney, NSW 2006, Australia <br/> </span>\n",
    "<span style=\"color:purple\">sinan.ozaydin@protonmail.com</span>"
   ]
  },
  {
   "cell_type": "markdown",
   "id": "934082f0-c2a6-42e1-befa-e7f53ed2760d",
   "metadata": {},
   "source": [
    "This notebook will demonstrate how to use the phase mixing functions for electrical conductivity models. Phase mixing functions are used to calculate the bulk conductivity of a mineral assemblage with the given geometrical assumptions. Since electrical conductivity is a measure of how easily can electrons can flow through a system, the connectivity of conductive phases in a matrix has crucial importance when it comes to interpreting the electrical conductivity variations measured with MT method.\n",
    "\n",
    "In ***pide***, there are six solid-state phase mixing functions are available to use. Which can be listed with the code snippet below:\n"
   ]
  },
  {
   "cell_type": "code",
   "execution_count": 1,
   "id": "4191c14a-49d0-460c-941f-fc2e336f96b8",
   "metadata": {},
   "outputs": [
    {
     "name": "stdout",
     "output_type": "stream",
     "text": [
      "\u001b[91mSolid Phases Mixing Models:\u001b[0m\n",
      "0.   Generalized Archie's Law (Glover, 2010)\n",
      "1.   Hashin-Shtrikman Lower Bound (Berryman, 1995)\n",
      "2.   Hashin-Shtrikman Upper Bound (Berryman, 1995)\n",
      "3.   Parallel Model (Guegen and Palciauskas, 1994)\n",
      "4.   Perpendicular Model (Guegen and Palciauskas, 1994)\n",
      "5.   Random Model (Guegen and Palciauskas, 1994)\n"
     ]
    },
    {
     "data": {
      "text/plain": [
       "[\"Generalized Archie's Law (Glover, 2010)\",\n",
       " 'Hashin-Shtrikman Lower Bound (Berryman, 1995)',\n",
       " 'Hashin-Shtrikman Upper Bound (Berryman, 1995)',\n",
       " 'Parallel Model (Guegen and Palciauskas, 1994)',\n",
       " 'Perpendicular Model (Guegen and Palciauskas, 1994)',\n",
       " 'Random Model (Guegen and Palciauskas, 1994)']"
      ]
     },
     "execution_count": 1,
     "metadata": {},
     "output_type": "execute_result"
    }
   ],
   "source": [
    "import pide\n",
    "import numpy as np\n",
    "import matplotlib.pyplot as plt\n",
    "\n",
    "p_obj = pide.pide() #forming the pide object\n",
    "p_obj.list_phs_mix_methods()"
   ]
  },
  {
   "cell_type": "markdown",
   "id": "326a0c16-95e8-48bb-afc4-14ff595677fb",
   "metadata": {},
   "source": [
    "$$\\sigma = \\sum_{i = 1}^n \\sigma_{i} \\phi^{m} \\qquad \\text{(1)} \\quad \\text{Generalized Archie's Law}$$\n",
    "$$\\sigma = \\left( \\sum_{i = 1}^n \\frac{\\phi_i}{\\sigma_i + 2\\sigma_{min}}   \\right)^{-1} - 2\\sigma_{min} \\qquad \\text{(2)} \\quad \\text{Hashin-Shtrikman Lower Bound}$$\n",
    "$$\\sigma = \\left( \\sum_{i = 1}^n \\frac{\\phi_i}{\\sigma_i + 2\\sigma_{max}}   \\right)^{-1} - 2\\sigma_{max} \\qquad \\text{(3)} \\quad \\text{Hashin-Shtrikman Upper Bound}$$\n",
    "$$\\sigma = \\sum_{i = 1}^n \\phi_i \\sigma_i \\quad \\text{(4)} \\quad \\text{Parallel Model}$$\n",
    "$$\\sigma = \\sum_{i = 1}^n \\frac{\\sigma_i}{\\phi_i} \\quad \\text{(5)} \\quad \\text{Perpendicular Model}$$\n",
    "$$\\sigma = \\prod \\sigma_i^{\\phi_i} \\quad \\text{(6)} \\quad \\text{Random Model}$$\n",
    "\n",
    "\n",
    "where volumetrically dominant cementation exponent for m in Generalized Archie's law is:\n",
    "\n",
    "$$m_j = log \\left( 1 - \\sum_{i \\neq j} \\phi_i^{m_j} \\right) / log \\left( 1 - \\sum_{i \\neq j} \\phi_i \\right) \\quad \\text{(7)}$$\n"
   ]
  },
  {
   "cell_type": "code",
   "execution_count": 2,
   "id": "0cecfb82-1534-460c-8318-04efce25ec28",
   "metadata": {},
   "outputs": [],
   "source": [
    "temp = np.arange(600,1300,5) #setting up temperature array\n",
    "p_obj = pide.pide() #creating the initial object\n",
    "\n",
    "p_obj.set_temperature(temp) #setting temperature array in K\n",
    "p_obj.set_pressure(1.0) #GPa\n",
    "\n",
    "#Setting a basic garnet-lherzolite matrix\n",
    "p_obj.set_composition_solid_mineral(ol = 0.6,opx = 0.25,cpx = 0.1, garnet= 0.05)\n",
    "#Setting m values for Generalised Archie's Law\n",
    "#Here the m value for the dominant phase will be overwritten and will be recalculated as m_j\n",
    "p_obj.set_phase_interconnectivities(ol = 1, opx = 2, cpx = 4, gt = 4, melt = 1)"
   ]
  },
  {
   "cell_type": "code",
   "execution_count": 3,
   "id": "a999ffe3-1892-4c26-83cc-1d044662c385",
   "metadata": {},
   "outputs": [
    {
     "name": "stdout",
     "output_type": "stream",
     "text": [
      "\u001b[91mMantle solid-state water partition coefficients for the mineral: opx\u001b[0m\n",
      "0.  Ozaydin2020_Opx1 -  Type 1\n",
      "1.  Ozaydin2020_Opx2 -  Type 1\n",
      "2.  Aubaud2004_Opx -  Type 0  -  Opx/Ol: 8.92\n",
      "3.  Demouchy2017_Opx -  Type 0  -  Opx/Ol: 5.6\n",
      "4.  Ferot2012_Opx -  Type 1\n",
      "5.  Grant2006_Opx -  Type 0  -  Opx/Ol: 2.52\n",
      "6.  Hauri2006_Opx -  Type 0  -  Opx/Ol: 6.93\n",
      "7.  Koga2003_Opx -  Type 0  -  Opx/Ol: 12.0\n",
      "8.  Kovacs2012_Opx -  Type 0  -  Opx/Ol: 5.34\n",
      "9.  Kovacs2012_Opx2 -  Type 1\n",
      "10.  Novella2014_Opx -  Type 0  -  Opx/Ol: 1.91\n",
      "11.  Sakurai2014_Opx -  Type 1\n",
      "12.  Withers2011_Opx1 -  Type 0  -  Opx/Ol: 1.505\n",
      "13.  Withers2011_Opx2 -  Type 1\n",
      "                 \n",
      "                 \n"
     ]
    }
   ],
   "source": [
    "#Setting bulk water(hydroxyl(OH^-1)) content to 100 ppm H2O wt\n",
    "p_obj.set_bulk_water(100)\n",
    "#Now we have to distribute this water content using water partitioning coefficients.\n",
    "#To do this, let's list all the possible water partitioning coefficients first, for the minerals we used.\n",
    "p_obj.list_mantle_water_partitions_solid('opx')"
   ]
  },
  {
   "cell_type": "code",
   "execution_count": null,
   "id": "9793cc5c-174a-402a-9f64-2f7e89df0eb9",
   "metadata": {},
   "outputs": [],
   "source": []
  }
 ],
 "metadata": {
  "kernelspec": {
   "display_name": "Python 3 (ipykernel)",
   "language": "python",
   "name": "python3"
  },
  "language_info": {
   "codemirror_mode": {
    "name": "ipython",
    "version": 3
   },
   "file_extension": ".py",
   "mimetype": "text/x-python",
   "name": "python",
   "nbconvert_exporter": "python",
   "pygments_lexer": "ipython3",
   "version": "3.10.12"
  }
 },
 "nbformat": 4,
 "nbformat_minor": 5
}
