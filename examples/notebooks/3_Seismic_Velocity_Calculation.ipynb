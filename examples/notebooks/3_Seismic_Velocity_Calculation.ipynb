{
 "cells": [
  {
   "cell_type": "markdown",
   "id": "e9a38bc8-6034-44d7-9132-c786ef0c50b3",
   "metadata": {},
   "source": [
    "## <span style=\"color:green\"> Notebook - Calculating Seismic Velocities </span>\n",
    "<span style=\"color:purple\">Sinan Ozaydin, School of Geosciences, The University of Sydney, NSW 2006, Australia <br/> </span>\n",
    "<span style=\"color:purple\">sinan.ozaydin@protonmail.com</span>"
   ]
  },
  {
   "cell_type": "markdown",
   "id": "31cd707a-95d9-4ac8-8515-5a3ece174d30",
   "metadata": {},
   "source": [
    "In this notebook, we we will explore how to calculate seismic velocities using the library pide for a given earth material. Seismic velocities in **pide** library are calculated by utilising the 'sister' library of pide **santex**. The isotropic velocities are calculated by the methods described in **Hacker et al., (2003)**. Material elastic parameters entered for all minerals are stored in materials.json file in pide_src and isotropy folder in santex. When a rock entered for the composition in pide, associated mineral assemblages in correspondent electrical conductivity models chosen are automatically calculated. Bulk velocities of the material formed are calculated by using Hashin-Shtrikman mixing function."
   ]
  },
  {
   "cell_type": "code",
   "execution_count": 1,
   "id": "576558bf-1d84-4f8c-afac-4c96b3ff0c7c",
   "metadata": {},
   "outputs": [
    {
     "ename": "ImportError",
     "evalue": "cannot import name 'Isotropy' from 'santex' (/home/sinan/.local/lib/python3.10/site-packages/santex/__init__.py)",
     "output_type": "error",
     "traceback": [
      "\u001b[0;31m---------------------------------------------------------------------------\u001b[0m",
      "\u001b[0;31mImportError\u001b[0m                               Traceback (most recent call last)",
      "Cell \u001b[0;32mIn[1], line 1\u001b[0m\n\u001b[0;32m----> 1\u001b[0m \u001b[38;5;28;01mimport\u001b[39;00m \u001b[38;5;21;01mpide\u001b[39;00m\n\u001b[1;32m      2\u001b[0m \u001b[38;5;28;01mimport\u001b[39;00m \u001b[38;5;21;01mnumpy\u001b[39;00m \u001b[38;5;28;01mas\u001b[39;00m \u001b[38;5;21;01mnp\u001b[39;00m\n\u001b[1;32m      3\u001b[0m \u001b[38;5;28;01mimport\u001b[39;00m \u001b[38;5;21;01mmatplotlib\u001b[39;00m\u001b[38;5;21;01m.\u001b[39;00m\u001b[38;5;21;01mpyplot\u001b[39;00m \u001b[38;5;28;01mas\u001b[39;00m \u001b[38;5;21;01mplt\u001b[39;00m\n",
      "File \u001b[0;32m~/src/SEL/pide/__init__.py:8\u001b[0m\n\u001b[1;32m      1\u001b[0m \u001b[38;5;124;03m\"\"\"\u001b[39;00m\n\u001b[1;32m      2\u001b[0m \u001b[38;5;124;03mpide v0.3\u001b[39;00m\n\u001b[1;32m      3\u001b[0m \n\u001b[1;32m      4\u001b[0m \u001b[38;5;124;03m\"\"\"\u001b[39;00m\n\u001b[1;32m      6\u001b[0m \u001b[38;5;28;01mimport\u001b[39;00m \u001b[38;5;21;01msys\u001b[39;00m\u001b[38;5;241m,\u001b[39m \u001b[38;5;21;01mcsv\u001b[39;00m\u001b[38;5;241m,\u001b[39m \u001b[38;5;21;01mre\u001b[39;00m\u001b[38;5;241m,\u001b[39m \u001b[38;5;21;01mwarnings\u001b[39;00m\u001b[38;5;241m,\u001b[39m \u001b[38;5;21;01mjson\u001b[39;00m\n\u001b[0;32m----> 8\u001b[0m \u001b[38;5;28;01mfrom\u001b[39;00m \u001b[38;5;21;01m.\u001b[39;00m\u001b[38;5;21;01mpide\u001b[39;00m \u001b[38;5;28;01mimport\u001b[39;00m pide\n\u001b[1;32m     10\u001b[0m __author__ \u001b[38;5;241m=\u001b[39m \u001b[38;5;124m'\u001b[39m\u001b[38;5;124mSinan Ozaydin\u001b[39m\u001b[38;5;124m'\u001b[39m\n\u001b[1;32m     11\u001b[0m __version__ \u001b[38;5;241m=\u001b[39m \u001b[38;5;124m'\u001b[39m\u001b[38;5;124m0.3\u001b[39m\u001b[38;5;124m'\u001b[39m\n",
      "File \u001b[0;32m~/src/SEL/pide/pide.py:10\u001b[0m\n\u001b[1;32m      8\u001b[0m \u001b[38;5;28;01mimport\u001b[39;00m \u001b[38;5;21;01mnumpy\u001b[39;00m \u001b[38;5;28;01mas\u001b[39;00m \u001b[38;5;21;01mnp\u001b[39;00m\n\u001b[1;32m      9\u001b[0m \u001b[38;5;28;01mfrom\u001b[39;00m \u001b[38;5;21;01mscipy\u001b[39;00m\u001b[38;5;21;01m.\u001b[39;00m\u001b[38;5;21;01minterpolate\u001b[39;00m \u001b[38;5;28;01mimport\u001b[39;00m interp1d\n\u001b[0;32m---> 10\u001b[0m \u001b[38;5;28;01mfrom\u001b[39;00m \u001b[38;5;21;01msantex\u001b[39;00m \u001b[38;5;28;01mimport\u001b[39;00m Isotropy\n\u001b[1;32m     12\u001b[0m sys\u001b[38;5;241m.\u001b[39mpath\u001b[38;5;241m.\u001b[39mappend(os\u001b[38;5;241m.\u001b[39mpath\u001b[38;5;241m.\u001b[39mdirname(os\u001b[38;5;241m.\u001b[39mpath\u001b[38;5;241m.\u001b[39mabspath(\u001b[38;5;18m__file__\u001b[39m)))\n\u001b[1;32m     14\u001b[0m \u001b[38;5;66;03m#importing odd melt/fluid functions\u001b[39;00m\n",
      "\u001b[0;31mImportError\u001b[0m: cannot import name 'Isotropy' from 'santex' (/home/sinan/.local/lib/python3.10/site-packages/santex/__init__.py)"
     ]
    }
   ],
   "source": [
    "import pide\n",
    "import numpy as np\n",
    "import matplotlib.pyplot as plt"
   ]
  },
  {
   "cell_type": "markdown",
   "id": "1322d70c-eb4b-42b0-b999-927e3345c5bd",
   "metadata": {},
   "source": [
    "Let's try to make a contour figure to plot the effect of pressure and temperature on different compositional environment, namely Lherzolite, Harzburgite and Lherzolite with 8% Phlogopite."
   ]
  },
  {
   "cell_type": "code",
   "execution_count": null,
   "id": "42514aba-d910-4c09-b3d9-0e78bd78ed6e",
   "metadata": {},
   "outputs": [],
   "source": [
    "#Setting the temperature and pressure arrays\n",
    "temp = np.arange(600,1500,10) #setting up temperature array\n",
    "pressure = np.arange(1,6,0.1)\n",
    "#Creating a meshgrid\n",
    "T,P = np.meshgrid(temp,pressure)\n",
    "#flattening the arrays to load into pide\n",
    "T_array = T.ravel()\n",
    "P_array = P.ravel()\n",
    "\n",
    "p_obj = pide.pide() #creating the initial object\n",
    "\n",
    "#Setting the temperature and pressure arrays.\n",
    "p_obj.set_temperature(T_array) #setting temperature array in K\n",
    "p_obj.set_pressure(P_array) \n",
    "#Setting the composition of the material.\n",
    "p_obj.set_composition_solid_mineral(ol = 0.6, opx = 0.25, cpx = 0.1, garnet = 0.05)\n",
    "\n",
    "#Calculating the seismic velocities.\n",
    "v_bulk_lherz,v_p_lherz,v_s_lherz = p_obj.calculate_seismic_velocities()\n",
    "#Calculating for a harzburgite\n",
    "p_obj.set_composition_solid_mineral(ol = 0.85, opx = 0.13, cpx = 0.02)\n",
    "v_bulk_harz,v_p_harz,v_s_harz = p_obj.calculate_seismic_velocities()\n",
    "#Calculating for a lherzolite with 8% phlogopites\n",
    "p_obj.set_composition_solid_mineral(ol = 0.57, opx = 0.22, cpx = 0.08, garnet = 0.05,mica = 0.08)\n",
    "v_bulk_phlg_lherz,v_p_phlg_lherz,v_s_phlg_lherz = p_obj.calculate_seismic_velocities()"
   ]
  },
  {
   "cell_type": "code",
   "execution_count": null,
   "id": "ff0401a7-eca3-4dcc-b03c-f306b84982d6",
   "metadata": {},
   "outputs": [],
   "source": [
    "fig = plt.figure(figsize = (20,10))\n",
    "ax = plt.subplot(121)\n",
    "cax = ax.tricontourf(T_array,P_array, v_p_lherz, cmap = 'coolwarm_r',levels = 100)\n",
    "cax.set_clim(np.amin(v_p_lherz),np.amax(v_p_lherz))\n",
    "ax.set_xlabel(r'Temperature [$K^{\\circ}$]')\n",
    "ax.set_ylabel(r'Pressure [GPa]')\n",
    "cax_cb = fig.colorbar(cax, orientation=\"horizontal\", pad=0.1,\n",
    "\t\t\t ax = ax, label = r'$V_P$ [km/s]')\n",
    "\n",
    "ax = plt.subplot(122)\n",
    "cax = ax.tricontourf(T_array,P_array, v_s_lherz, cmap = 'coolwarm_r',levels = 100)\n",
    "cax.set_clim(np.amin(v_s_lherz),np.amax(v_s_lherz))\n",
    "ax.set_xlabel(r'Temperature [$K^{\\circ}$]')\n",
    "ax.set_ylabel(r'Pressure [GPa]')\n",
    "cax_cb = fig.colorbar(cax, orientation=\"horizontal\", pad=0.1,\n",
    "\t\t\tax = ax, label = r'$V_S$ [km/s]')\n",
    "fig.suptitle('Lherzolite - Composition')\n"
   ]
  },
  {
   "cell_type": "code",
   "execution_count": null,
   "id": "6f51e865-5a6c-4e53-92e0-0c4adfeb8341",
   "metadata": {},
   "outputs": [],
   "source": [
    "fig = plt.figure(figsize = (20,10))\n",
    "ax = plt.subplot(121)\n",
    "cax = ax.tricontourf(T_array,P_array, v_p_harz, cmap = 'coolwarm_r',levels = 100)\n",
    "cax.set_clim(np.amin(v_p_harz),np.amax(v_p_harz))\n",
    "ax.set_xlabel(r'Temperature [$K^{\\circ}$]')\n",
    "ax.set_ylabel(r'Pressure [GPa]')\n",
    "cax_cb = fig.colorbar(cax, orientation=\"horizontal\", pad=0.1,\n",
    "\t\t\t ax = ax, label = r'$V_P$ [km/s]')\n",
    "\n",
    "ax = plt.subplot(122)\n",
    "cax = ax.tricontourf(T_array,P_array, v_s_lherz, cmap = 'coolwarm_r',levels = 100)\n",
    "cax.set_clim(np.amin(v_s_lherz),np.amax(v_s_lherz))\n",
    "ax.set_xlabel(r'Temperature [$K^{\\circ}$]')\n",
    "ax.set_ylabel(r'Pressure [GPa]')\n",
    "cax_cb = fig.colorbar(cax, orientation=\"horizontal\", pad=0.1,\n",
    "\t\t\tax = ax, label = r'$V_S$ [km/s]')\n",
    "fig.suptitle('Harzburgite - Composition')"
   ]
  },
  {
   "cell_type": "code",
   "execution_count": null,
   "id": "f207a55a-efc8-4e1f-8573-76eddb413a61",
   "metadata": {},
   "outputs": [],
   "source": [
    "fig = plt.figure(figsize = (20,10))\n",
    "ax = plt.subplot(121)\n",
    "cax = ax.tricontourf(T_array,P_array, v_p_phlg_lherz, cmap = 'coolwarm_r',levels = 100)\n",
    "cax.set_clim(np.amin(v_p_phlg_lherz),np.amax(v_p_phlg_lherz))\n",
    "ax.set_xlabel(r'Temperature [$K^{\\circ}$]')\n",
    "ax.set_ylabel(r'Pressure [GPa]')\n",
    "cax_cb = fig.colorbar(cax, orientation=\"horizontal\", pad=0.1,\n",
    "\t\t\t ax = ax, label = r'$V_P$ [km/s]')\n",
    "\n",
    "ax = plt.subplot(122)\n",
    "cax = ax.tricontourf(T_array,P_array, v_s_phlg_lherz, cmap = 'coolwarm_r',levels = 100)\n",
    "cax.set_clim(np.amin(v_s_phlg_lherz),np.amax(v_s_phlg_lherz))\n",
    "ax.set_xlabel(r'Temperature [$K^{\\circ}$]')\n",
    "ax.set_ylabel(r'Pressure [GPa]')\n",
    "cax_cb = fig.colorbar(cax, orientation=\"horizontal\", pad=0.1,\n",
    "\t\t\tax = ax, label = r'$V_S$ [km/s]')\n",
    "fig.suptitle('Lherzolite with 8% Phlogopite - Composition')"
   ]
  },
  {
   "cell_type": "code",
   "execution_count": null,
   "id": "015e0cea-917f-44bb-abf4-33df99c48f75",
   "metadata": {},
   "outputs": [],
   "source": [
    "fig = plt.figure(figsize = (20,10))\n",
    "ax = plt.subplot(121)\n",
    "cax = ax.tricontourf(T_array,P_array, v_p_lherz - v_p_phlg_lherz, cmap = 'viridis',levels = 100)\n",
    "cax.set_clim(np.amin(v_p_lherz - v_p_phlg_lherz),np.amax(v_p_lherz - v_p_phlg_lherz))\n",
    "ax.set_xlabel(r'Temperature [$K^{\\circ}$]')\n",
    "ax.set_ylabel(r'Pressure [GPa]')\n",
    "cax_cb = fig.colorbar(cax, orientation=\"horizontal\", pad=0.1,\n",
    "\t\t\t ax = ax, label = r'$V_P$ [km/s]')\n",
    "\n",
    "ax = plt.subplot(122)\n",
    "cax = ax.tricontourf(T_array,P_array, v_s_lherz - v_s_phlg_lherz, cmap = 'viridis',levels = 100)\n",
    "cax.set_clim(np.amin(v_s_lherz - v_s_phlg_lherz),np.amax(v_s_lherz - v_s_phlg_lherz))\n",
    "ax.set_xlabel(r'Temperature [$K^{\\circ}$]')\n",
    "ax.set_ylabel(r'Pressure [GPa]')\n",
    "cax_cb = fig.colorbar(cax, orientation=\"horizontal\", pad=0.1,\n",
    "\t\t\tax = ax, label = r'$V_S$ [km/s]')\n",
    "fig.suptitle('Difference between Lherzolite and Lherzolite with phlogopite')"
   ]
  },
  {
   "cell_type": "code",
   "execution_count": null,
   "id": "f4a9482f-05c5-428b-8321-068b67a50b2e",
   "metadata": {},
   "outputs": [],
   "source": [
    "p_obj.set_solid_phase_method('rock')\n",
    "p_obj.set_composition_solid_rock(granite = 1)\n",
    "v_bulk_granite,v_p_granite,v_s_granite = p_obj.calculate_seismic_velocities()\n",
    "\n",
    "fig = plt.figure(figsize = (20,10))\n",
    "ax = plt.subplot(121)\n",
    "cax = ax.tricontourf(T_array,P_array, v_p_granite, cmap = 'coolwarm_r',levels = 100)\n",
    "cax.set_clim(np.amin(v_p_granite),np.amax(v_p_granite))\n",
    "ax.set_xlabel(r'Temperature [$K^{\\circ}$]')\n",
    "ax.set_ylabel(r'Pressure [GPa]')\n",
    "cax_cb = fig.colorbar(cax, orientation=\"horizontal\", pad=0.1,\n",
    "\t\t\t ax = ax, label = r'$V_P$ [km/s]')\n",
    "\n",
    "ax = plt.subplot(122)\n",
    "cax = ax.tricontourf(T_array,P_array, v_s_granite, cmap = 'coolwarm_r',levels = 100)\n",
    "cax.set_clim(np.amin(v_s_granite),np.amax(v_s_granite))\n",
    "ax.set_xlabel(r'Temperature [$K^{\\circ}$]')\n",
    "ax.set_ylabel(r'Pressure [GPa]')\n",
    "cax_cb = fig.colorbar(cax, orientation=\"horizontal\", pad=0.1,\n",
    "\t\t\tax = ax, label = r'$V_S$ [km/s]')\n",
    "fig.suptitle('Lherzolite with 8% Phlogopite - Composition')"
   ]
  },
  {
   "cell_type": "code",
   "execution_count": null,
   "id": "6df5a269",
   "metadata": {},
   "outputs": [],
   "source": []
  }
 ],
 "metadata": {
  "kernelspec": {
   "display_name": "Python 3 (ipykernel)",
   "language": "python",
   "name": "python3"
  },
  "language_info": {
   "codemirror_mode": {
    "name": "ipython",
    "version": 3
   },
   "file_extension": ".py",
   "mimetype": "text/x-python",
   "name": "python",
   "nbconvert_exporter": "python",
   "pygments_lexer": "ipython3",
   "version": "3.10.12"
  }
 },
 "nbformat": 4,
 "nbformat_minor": 5
}
