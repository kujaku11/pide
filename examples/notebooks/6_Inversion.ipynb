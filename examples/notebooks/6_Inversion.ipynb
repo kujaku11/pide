{
 "cells": [
  {
   "cell_type": "markdown",
   "id": "9cf7e801",
   "metadata": {},
   "source": [
    "## <span style=\"color:green\"> Notebook - Inversion  </span>\n",
    "<span style=\"color:purple\">Sinan Ozaydin, School of Geosciences, The University of Sydney, NSW 2006, Australia <br/> </span>\n",
    "<span style=\"color:purple\">sinan.ozaydin@protonmail.com | sinan.ozaydin@sydney.edu.au </span>"
   ]
  },
  {
   "cell_type": "markdown",
   "id": "974f2e92",
   "metadata": {},
   "source": [
    "Inversion module currently involves only inverting for conductivit"
   ]
  },
  {
   "cell_type": "code",
   "execution_count": 1,
   "id": "d0c81000",
   "metadata": {},
   "outputs": [],
   "source": [
    "import numpy as np\n",
    "import matplotlib.pyplot as plt\n",
    "\n",
    "import pide\n",
    "from pide.inversion import conductivity_solver_single_param\n",
    "from pide.geodyn.geotherm import calculate_hasterok2011_geotherm"
   ]
  },
  {
   "cell_type": "code",
   "execution_count": 2,
   "id": "716eef3b",
   "metadata": {},
   "outputs": [],
   "source": [
    "moho = 38 #km\n",
    "max_depth = 250\n",
    "\n",
    "T, depth, p, idx_LAB = calculate_hasterok2011_geotherm(SHF = 40, T_0 =25.0,max_depth = max_depth, moho = moho)"
   ]
  },
  {
   "cell_type": "code",
   "execution_count": 3,
   "id": "4f2bcb9a",
   "metadata": {},
   "outputs": [],
   "source": [
    "p_obj = pide.pide() #creating the initial object\n",
    "p_obj.set_temperature(T)\n",
    "p_obj.set_pressure(p)\n",
    "\n",
    "p_obj.set_composition_solid_mineral(ol = 0.65, opx = 0.2, cpx = 0.1, garnet = 0.05)\n",
    "p_obj.set_phase_interconnectivities(ol = 1, opx = 2, cpx = 4, gt = 4)\n",
    "\n"
   ]
  },
  {
   "cell_type": "code",
   "execution_count": 4,
   "id": "8cfa86e3",
   "metadata": {},
   "outputs": [],
   "source": [
    "p_obj.set_mantle_water_solubility(ol = 4,opx = 3, cpx = 0, garnet = 0)\n",
    "p_obj.set_mantle_water_partitions(opx_ol = 3, cpx_ol = 4, garnet_ol = 0)\n",
    "p_obj.revalue_arrays()"
   ]
  },
  {
   "cell_type": "code",
   "execution_count": 5,
   "id": "38def63d",
   "metadata": {},
   "outputs": [],
   "source": [
    "p_obj.set_parameter('ti_ol', 0.1)\n",
    "max_water = p_obj.calculate_bulk_mantle_water_solubility(method = 'array')"
   ]
  },
  {
   "cell_type": "code",
   "execution_count": 6,
   "id": "e3d47417",
   "metadata": {
    "scrolled": true
   },
   "outputs": [],
   "source": [
    "cond_list_to_invert = np.ones(len(T)) * 1e4\n",
    "cond_list_to_invert[75:100] = 1000\n",
    "cond_list_to_invert[100:150] = 100\n",
    "cond_list_to_invert[150:] = 50\n",
    "cond_list_to_invert = 1.0 / cond_list_to_invert #converting to conductivity"
   ]
  },
  {
   "cell_type": "code",
   "execution_count": 7,
   "id": "7cf569d1-f207-4548-8a54-0e9ba9d66db7",
   "metadata": {},
   "outputs": [],
   "source": [
    "c_list, residual_list = conductivity_solver_single_param(object = p_obj, cond_list = cond_list_to_invert, param_name = 'bulk_water', upper_limit_list = max_water,\n",
    "lower_limit_list= np.zeros(len(max_water)), search_start = 10, acceptence_threshold = 0.5, num_cpu = 5)"
   ]
  },
  {
   "cell_type": "code",
   "execution_count": 8,
   "id": "47a09f10",
   "metadata": {},
   "outputs": [
    {
     "data": {
      "image/png": "[encoded data removed]",
      "text/plain": [
       "<Figure size 432x288 with 2 Axes>"
      ]
     },
     "metadata": {
      "needs_background": "light"
     },
     "output_type": "display_data"
    }
   ],
   "source": [
    "p_obj.set_bulk_water(c_list)\n",
    "p_obj.mantle_water_distribute(method = 'array')\n",
    "cond_calced = p_obj.calculate_conductivity(method = 'array')\n",
    "\n",
    "fig = plt.figure()\n",
    "ax = plt.subplot(121)\n",
    "# ax.plot(cond_list,object.T,label = 'data')\n",
    "# ax.plot(cond_calced,object.T, label = 'calced')\n",
    "ax.plot(max_water,depth)\n",
    "ax.plot(c_list,depth,linestyle = '--')\n",
    "ax.set_ylim(np.amax(depth),np.amin(depth))\n",
    "ax.set_xlim(0,1000)\n",
    "ax.set_ylabel('Depth [km]')\n",
    "ax.set_xlabel(r' Bulk Water Content [$H_2O \\, wt. \\, ppm$]')\n",
    "ax.grid()\n",
    "\n",
    "ax2 = plt.subplot(122)\n",
    "ax2.plot(cond_list_to_invert,depth)\n",
    "ax2.plot(cond_calced,depth,linestyle = '--')\n",
    "ax2.set_xscale('log')\n",
    "ax2.set_ylim(np.amax(depth),np.amin(depth))\n",
    "ax2.set_xlim(1e-6,1)\n",
    "ax2.set_yticklabels([])\n",
    "ax2.set_xlabel('Conductivity [S/m]')\n",
    "ax2.grid()\n",
    "\n",
    "plt.show()"
   ]
  },
  {
   "cell_type": "code",
   "execution_count": null,
   "id": "c6552ce1-9fb0-47a4-bb36-be6fa4fd696f",
   "metadata": {},
   "outputs": [],
   "source": []
  }
 ],
 "metadata": {
  "kernelspec": {
   "display_name": "Python 3 (ipykernel)",
   "language": "python",
   "name": "python3"
  },
  "language_info": {
   "codemirror_mode": {
    "name": "ipython",
    "version": 3
   },
   "file_extension": ".py",
   "mimetype": "text/x-python",
   "name": "python",
   "nbconvert_exporter": "python",
   "pygments_lexer": "ipython3",
   "version": "3.10.12"
  }
 },
 "nbformat": 4,
 "nbformat_minor": 5
}
