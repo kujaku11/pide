{
 "cells": [
  {
   "cell_type": "markdown",
   "id": "15b2e808",
   "metadata": {},
   "source": [
    "## <span style=\"color:green\"> Notebook - Geophysical anomalies along a continental geotherm </span>\n",
    "<span style=\"color:purple\">Sinan Ozaydin, School of Geosciences, The University of Sydney, NSW 2006, Australia <br/> </span>\n",
    "<span style=\"color:purple\">sinan.ozaydin@protonmail.com | sinan.ozaydin@sydney.edu.au </span>"
   ]
  },
  {
   "cell_type": "markdown",
   "id": "cd6d9d56",
   "metadata": {},
   "source": [
    "This notebook shows how to calculate a geotherm with conventional methods and calculate the associated conductivity and seismic velocity values. Geotherm here is calculated using the existing continental geotherm function described in **Hasterok et al. (2011)** and adiabatic mantle potential temperature gradients values of **Katsura (2022)**. The intesection of two curves assumed to be defining the LAB."
   ]
  },
  {
   "cell_type": "code",
   "execution_count": null,
   "id": "fc48835e",
   "metadata": {},
   "outputs": [],
   "source": [
    "import pide\n",
    "import numpy as np\n",
    "import matplotlib.pyplot as plt\n",
    "import matplotlib.patches as patches\n",
    "\n",
    "#For building a geotherm.\n",
    "from pide.geodyn.geotherm import calculate_hasterok2011_geotherm"
   ]
  },
  {
   "cell_type": "code",
   "execution_count": null,
   "id": "a939f996",
   "metadata": {},
   "outputs": [],
   "source": [
    "moho = 38 #km\n",
    "max_depth = 250\n",
    "\n",
    "T, depth, p, idx_LAB = calculate_hasterok2011_geotherm(SHF = 40, T_0 =25.0,max_depth = max_depth, moho = moho)"
   ]
  },
  {
   "cell_type": "markdown",
   "id": "bdee7c3f",
   "metadata": {},
   "source": [
    "where, SHF is Surface Heat Flow in $mW/m^2$, T_0 is temperature at the surface in $C^{\\circ}$. Now let's plot the geotherm..."
   ]
  },
  {
   "cell_type": "code",
   "execution_count": null,
   "id": "0b9ae891",
   "metadata": {},
   "outputs": [],
   "source": [
    "fig = plt.figure(figsize = (3,7))\n",
    "ax = plt.subplot(111)\n",
    "ax.plot(T-273.15,depth,color = 'k')\n",
    "ax.axhline(moho,linestyle = '--', color = 'g')\n",
    "ax.axhline(depth[idx_LAB],linestyle = '--', color = 'r')\n",
    "ax.set_ylim(0,250.0)\n",
    "ax.grid(which = 'both')\n",
    "ax.set_xlabel(r'Temperature [$C^{\\circ}$]')\n",
    "ax.set_ylabel('Depth [km]')\n",
    "ax.invert_yaxis()\n",
    "ax.set_title('Geotherm')\n",
    "plt.show()\n"
   ]
  },
  {
   "cell_type": "markdown",
   "id": "b7122403",
   "metadata": {},
   "source": [
    "Now, let's calculate the electrical conductivity and seismic velocities that would result form this geotherm. We assume a simple lherzolitic matrix with 100 ppm bulk water content. The below cell will calculate the electrical conductivities. Once the compositional and thermodynamic environment set in the pide object, the conductivities can be calculate via **calculate_conductivity** method."
   ]
  },
  {
   "cell_type": "code",
   "execution_count": null,
   "id": "26988b8a",
   "metadata": {},
   "outputs": [],
   "source": [
    "p_obj = pide.pide()\n",
    "\n",
    "p_obj.set_temperature(T)\n",
    "p_obj.set_pressure(p)\n",
    "\n",
    "#Setting the composition\n",
    "p_obj.set_composition_solid_mineral(ol = 0.6,opx = 0.25,cpx = 0.1, garnet= 0.05)\n",
    "#Setting water content in ppm\n",
    "p_obj.set_bulk_water(100)\n",
    "#Setting water partitioning models and distributing the water.\n",
    "p_obj.set_mantle_water_partitions(opx_ol = 3, cpx_ol = 6, garnet_ol = 0)\n",
    "p_obj.mantle_water_distribute()\n",
    "#Electrical conductivity model choices for reach mineral\n",
    "p_obj.set_mineral_conductivity_choice(ol = 4, opx = 2, cpx = 4, gt = 4)\n",
    "#Setting the phase mixing method to Lower Hashin-Shtrikman Bound\n",
    "p_obj.set_solid_phs_mix_method(method = 1)\n",
    "#Finally calculating the conductivity.\n",
    "cond = p_obj.calculate_conductivity()"
   ]
  },
  {
   "cell_type": "markdown",
   "id": "d40e0c95",
   "metadata": {},
   "source": [
    "In pide, the seismic velocities can be calculated by simply running ***calculate_seismic_velocities*** method."
   ]
  },
  {
   "cell_type": "code",
   "execution_count": null,
   "id": "27d9ffa3",
   "metadata": {},
   "outputs": [],
   "source": [
    "v_bulk, v_p, v_s = p_obj.calculate_seismic_velocities()"
   ]
  },
  {
   "cell_type": "markdown",
   "id": "39e8d2ef",
   "metadata": {},
   "source": [
    "Now, let's plot them all together... We will plot electrical resistivity (1/electrical conductivity) since it is the general convention in magnetotelluric studies instead of plotting the conductivity. "
   ]
  },
  {
   "cell_type": "code",
   "execution_count": null,
   "id": "ab21cfc9",
   "metadata": {},
   "outputs": [],
   "source": [
    "fig = plt.figure(figsize = (12,7))\n",
    "ax = plt.subplot(131)\n",
    "ax.plot(T-273.15,depth,color = 'k')\n",
    "ax.axhline(moho,linestyle = '--', color = 'g')\n",
    "ax.axhline(depth[idx_LAB],linestyle = '--', color = 'r')\n",
    "ax.set_ylim(0,250.0)\n",
    "ax.grid(which = 'both')\n",
    "ax.set_xlabel(r'Temperature [$C^{\\circ}$]')\n",
    "ax.set_ylabel('Depth [km]')\n",
    "ax.invert_yaxis()\n",
    "ax.set_title('Geotherm')\n",
    "\n",
    "#Plotting the electrical resistivity profile.\n",
    "ax2 = plt.subplot(132)\n",
    "ax2.plot(1./cond,depth,color = 'k')\n",
    "ax2.axhline(moho,linestyle = '--', color = 'g')\n",
    "ax2.axhline(depth[idx_LAB],linestyle = '--', color = 'r')\n",
    "ax2.set_ylim(0,250.0)\n",
    "ax2.set_xscale('log')\n",
    "ax2.grid(which = 'both')\n",
    "ax2.set_xlabel(r'$\\rho$ [$\\Omega m$] ')\n",
    "ax2.set_yticks([])\n",
    "ax2.invert_yaxis()\n",
    "ax2.set_title('Electrical Resistivity')\n",
    "\n",
    "#plotting the seismic velocities\n",
    "\n",
    "ax3 = plt.subplot(133)\n",
    "ax3.plot(v_p,depth,color = 'k', label = r'$V_P$')\n",
    "ax3.plot(v_s,depth,color = 'r', label = r'$V_S$')\n",
    "ax3.axhline(moho,linestyle = '--', color = 'g')\n",
    "ax3.axhline(depth[idx_LAB],linestyle = '--', color = 'r')\n",
    "ax3.set_ylim(0,250.0)\n",
    "ax3.set_xlim(1,13)\n",
    "ax3.grid(which = 'both')\n",
    "ax3.set_xlabel(r'Seismic Velocities [$km/s$]')\n",
    "ax3.set_yticks([])\n",
    "ax3.invert_yaxis()\n",
    "ax3.legend()\n",
    "ax3.set_title('Seismic Velocities')\n",
    "\n"
   ]
  },
  {
   "cell_type": "markdown",
   "id": "414c719a",
   "metadata": {},
   "source": [
    "Now, let's do the same with assuming different compositional layers along the geotherm. We can do this by first creating materials. Here, we need to import material and model objects. The material objects can be used to set up a calculation environment. After creating the materials, these can be put into a model object alongside with temperature and pressure."
   ]
  },
  {
   "cell_type": "code",
   "execution_count": null,
   "id": "06128834-d4d1-460b-823f-6755ed63c154",
   "metadata": {},
   "outputs": [],
   "source": [
    "from pide.material import Material\n",
    "from pide.model import Model\n",
    "\n",
    "#Here, other than the compositional and geometrical parameters, the user should also indicate the top and the bottom of the layers in km.\n",
    "Layer_1_Upper_Crust = Material(name = 'Layer_1_Upper_Crust', calculation_type = 'rock', composition = {'granite':1.0},\n",
    "                               el_cond_selections = {'granite': 10},solid_phase_mixing_idx = 1,top = 0, bottom = 15)\n",
    "\n",
    "#Instead of using 15, the user here can also use another objects bottom variable.\n",
    "Layer_2_Lower_Crust = Material(name = 'Layer_2_Lower_Crust', calculation_type = 'rock', composition = {'granulite':1.0},\n",
    "                               el_cond_selections = {'granulite': 2},solid_phase_mixing_idx = 1,top = Layer_1_Upper_Crust.bottom, bottom = 38)\n",
    "\n",
    "Layer_3_Upper_Mantle = Material(name = 'Layer_3_Upper_Mantle', calculation_type = 'mineral',\n",
    "                                composition = {'ol':0.65,'opx':0.25,'garnet':0.05,'cpx':0.05},\n",
    "                                solid_phase_mixing_idx = 1,\n",
    "                                el_cond_selections = {'ol':4, 'opx':0, 'garnet':0,'cpx':0},\n",
    "                                water_distr = True, water = {'bulk':0}, xfe = {'ol':0.1,'opx':0.1,'garnet':0.1, 'cpx':0.1},\n",
    "                                top = Layer_2_Lower_Crust.bottom, bottom = 75)\n",
    "\n",
    "#A layer's attributes can also be copied by the copy_attributes method in a material object:\n",
    "Layer_4_Upper_Mantle = Material()\n",
    "Layer_3_Upper_Mantle.copy_attributes(Layer_4_Upper_Mantle)\n",
    "#Now change just only the water content and layer position from Layer_3\n",
    "Layer_4_Upper_Mantle.water = {'bulk':200}\n",
    "Layer_4_Upper_Mantle.top = Layer_3_Upper_Mantle.bottom\n",
    "Layer_4_Upper_Mantle.bottom = 150\n",
    "\n",
    "#Defining Layer_5 through layer 4 but changing the position and adding 5% phlogopites (mica) to the matrix.\n",
    "Layer_5_Upper_Mantle = Material()\n",
    "Layer_4_Upper_Mantle.copy_attributes(Layer_5_Upper_Mantle)\n",
    "Layer_5_Upper_Mantle.composition = {'ol':0.60,'opx':0.20,'garnet':0.05,'mica':0.1,'cpx':0.05}\n",
    "Layer_5_Upper_Mantle.top = Layer_4_Upper_Mantle.bottom\n",
    "Layer_5_Upper_Mantle.bottom = 250\n",
    "\n",
    "#Now creating a model object to put these layers in alongside with our thermodynamic conditions (T,P,Depth)\n",
    "Layers = Model(material_list = [Layer_1_Upper_Crust,Layer_2_Lower_Crust,Layer_3_Upper_Mantle,Layer_4_Upper_Mantle,Layer_5_Upper_Mantle],\n",
    "               T = T, P = p, depth = depth)\n",
    "\n",
    "\n"
   ]
  },
  {
   "cell_type": "markdown",
   "id": "74f72803-f462-421d-92c5-055b84bf40ac",
   "metadata": {},
   "source": [
    "After Layers model object is set, this could be used to perform specific **calculate_geothermal_block** method. There are two types of this method, where user either choose to calculate conductivity or seismic velocities:"
   ]
  },
  {
   "cell_type": "code",
   "execution_count": null,
   "id": "f0a04de3-c991-4719-a66d-3c2779a85143",
   "metadata": {},
   "outputs": [],
   "source": [
    "cond = Layers.calculate_geothermal_block(type = 'conductivity')\n",
    "v_bulk,v_p,v_s = Layers.calculate_geothermal_block(type = 'seismic')"
   ]
  },
  {
   "cell_type": "markdown",
   "id": "ee3ed8f5-4635-489f-91ee-52cd796da544",
   "metadata": {},
   "source": [
    "Now, let's plot these by running similar plotting code as before."
   ]
  },
  {
   "cell_type": "code",
   "execution_count": null,
   "id": "ea8b3c8a-bacf-4e31-84b6-b71be1395b49",
   "metadata": {},
   "outputs": [],
   "source": [
    "fig = plt.figure(figsize = (12,7))\n",
    "ax = plt.subplot(131)\n",
    "ax.plot(T-273.15,depth,color = 'k')\n",
    "ax.axhline(moho,linestyle = '--', color = 'g',label = 'Moho')\n",
    "ax.axhline(depth[idx_LAB],linestyle = '--', color = 'r',label = 'LAB')\n",
    "ax.set_ylim(0,250.0)\n",
    "ax.grid(which = 'both')\n",
    "ax.set_xlabel(r'Temperature [$C^{\\circ}$]')\n",
    "ax.set_ylabel('Depth [km]')\n",
    "ax.invert_yaxis()\n",
    "ax.set_title('Geotherm')\n",
    "\n",
    "ax.axhline(Layer_1_Upper_Crust.bottom,linestyle = '-.',color = 'b', label = 'Layers')\n",
    "ax.axhline(Layer_2_Lower_Crust.bottom,linestyle ='-.',color = 'b')\n",
    "ax.axhline(Layer_3_Upper_Mantle.bottom,linestyle ='-.',color = 'b')\n",
    "ax.axhline(Layer_4_Upper_Mantle.bottom,linestyle ='-.',color = 'b')\n",
    "ax.axhline(Layer_5_Upper_Mantle.bottom,linestyle ='-.',color = 'b')\n",
    "ax.legend()\n",
    "\n",
    "\n",
    "#Plotting the electrical resistivity profile.\n",
    "ax2 = plt.subplot(132)\n",
    "ax2.plot(1./cond,depth,color = 'b')\n",
    "ax2.axhline(moho,linestyle = '--', color = 'g')\n",
    "ax2.axhline(depth[idx_LAB],linestyle = '--', color = 'r')\n",
    "ax2.set_ylim(0,250.0)\n",
    "ax2.set_xscale('log')\n",
    "ax2.grid(which = 'both')\n",
    "ax2.set_xlabel(r'$\\rho$ [$\\Omega m$] ')\n",
    "ax2.set_yticklabels([])\n",
    "ax2.invert_yaxis()\n",
    "ax2.set_title('Electrical Resistivity')\n",
    "\n",
    "#plotting the seismic velocities\n",
    "\n",
    "ax3 = plt.subplot(133)\n",
    "ax3.plot(v_p,depth,color = 'k', label = r'$V_P$')\n",
    "ax3.plot(v_s,depth,color = 'r', label = r'$V_S$')\n",
    "ax3.axhline(moho,linestyle = '--', color = 'g')\n",
    "ax3.axhline(depth[idx_LAB],linestyle = '--', color = 'r')\n",
    "ax3.set_ylim(0,250.0)\n",
    "ax3.set_xlim(1,13)\n",
    "ax3.grid(which = 'both')\n",
    "ax3.set_xlabel(r'Seismic Velocities [$km/s$]')\n",
    "ax3.set_yticklabels([])\n",
    "ax3.invert_yaxis()\n",
    "ax3.legend()\n",
    "ax3.set_title('Seismic Velocities')\n"
   ]
  },
  {
   "cell_type": "code",
   "execution_count": null,
   "id": "c5d58b46-ce0c-41e5-ae5f-c26662448cee",
   "metadata": {},
   "outputs": [],
   "source": []
  }
 ],
 "metadata": {
  "kernelspec": {
   "display_name": "Python 3 (ipykernel)",
   "language": "python",
   "name": "python3"
  },
  "language_info": {
   "codemirror_mode": {
    "name": "ipython",
    "version": 3
   },
   "file_extension": ".py",
   "mimetype": "text/x-python",
   "name": "python",
   "nbconvert_exporter": "python",
   "pygments_lexer": "ipython3",
   "version": "3.10.12"
  }
 },
 "nbformat": 4,
 "nbformat_minor": 5
}
