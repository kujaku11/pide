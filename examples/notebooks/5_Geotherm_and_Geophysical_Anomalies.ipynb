{
 "cells": [
  {
   "cell_type": "markdown",
   "id": "15b2e808",
   "metadata": {},
   "source": [
    "## <span style=\"color:green\"> Notebook - Geophysical anomalies along a continental geotherm </span>\n",
    "<span style=\"color:purple\">Sinan Ozaydin, School of Geosciences, The University of Sydney, NSW 2006, Australia <br/> </span>\n",
    "<span style=\"color:purple\">sinan.ozaydin@protonmail.com | sinan.ozaydin@sydney.edu.au </span>"
   ]
  },
  {
   "cell_type": "markdown",
   "id": "cd6d9d56",
   "metadata": {},
   "source": [
    "This notebook..."
   ]
  },
  {
   "cell_type": "code",
   "execution_count": 1,
   "id": "fc48835e",
   "metadata": {},
   "outputs": [],
   "source": [
    "import pide\n",
    "import numpy as np\n",
    "import matplotlib.pyplot as plt\n",
    "\n",
    "#For building a geotherm.\n",
    "from pide.geodyn.geotherm import calculate_hasterok2011_geotherm"
   ]
  },
  {
   "cell_type": "code",
   "execution_count": 2,
   "id": "a939f996",
   "metadata": {},
   "outputs": [],
   "source": [
    "moho = 38\n",
    "\n",
    "T, depth, p, idx_LAB = calculate_hasterok2011_geotherm(SHF = 40, T_0 =25.0,max_depth = 250,moho = 38.0)"
   ]
  },
  {
   "cell_type": "markdown",
   "id": "bdee7c3f",
   "metadata": {},
   "source": [
    "Now let's plot the geotherm"
   ]
  },
  {
   "cell_type": "code",
   "execution_count": 3,
   "id": "0b9ae891",
   "metadata": {},
   "outputs": [
    {
     "data": {
      "image/png": "[encoded data removed]",
      "text/plain": [
       "<Figure size 216x504 with 1 Axes>"
      ]
     },
     "metadata": {
      "needs_background": "light"
     },
     "output_type": "display_data"
    }
   ],
   "source": [
    "fig = plt.figure(figsize = (3,7))\n",
    "ax = plt.subplot(111)\n",
    "ax.plot(T-273.15,depth/1e3,color = 'k')\n",
    "ax.axhline(moho,linestyle = '--', color = 'g')\n",
    "ax.axhline(depth[idx_LAB]/1e3,linestyle = '--', color = 'r')\n",
    "ax.set_ylim(0,250.0)\n",
    "ax.grid(which = 'both')\n",
    "ax.set_xlabel(r'Temperature [$C^{\\circ}$]')\n",
    "ax.set_ylabel('Depth [km]')\n",
    "ax.invert_yaxis()\n",
    "plt.show()\n"
   ]
  },
  {
   "cell_type": "code",
   "execution_count": 4,
   "id": "26988b8a",
   "metadata": {},
   "outputs": [],
   "source": [
    "p_obj = pide.pide()\n",
    "\n",
    "p_obj.set_temperature(T)\n",
    "p_obj.set_pressure(p)\n",
    "\n",
    "p_obj.set_composition_solid_mineral(ol = 0.6,opx = 0.25,cpx = 0.1, garnet= 0.05)\n",
    "p_obj.set_bulk_water(100)\n",
    "p_obj.mantle_water_distribute()\n",
    "p_obj.set_mineral_conductivity_choice(ol = 4)\n",
    "p_obj.set_solid_phs_mix_method(method = 1)\n",
    "cond = p_obj.calculate_conductivity()"
   ]
  },
  {
   "cell_type": "code",
   "execution_count": 8,
   "id": "27d9ffa3",
   "metadata": {},
   "outputs": [
    {
     "name": "stdout",
     "output_type": "stream",
     "text": [
      "[4.92594034 4.92187599 4.9178232  4.91374199 4.90964284 4.90553528\n",
      " 4.90142853 4.89733123 4.89325169 4.8891977  4.8851766  4.88119528\n",
      " 4.87726018 4.8733773  4.86955222 4.8657901  4.86209572 4.85847347\n",
      " 4.8544061  4.85038319 4.84640654 4.84247869 4.83860199 4.83477864\n",
      " 4.83101066 4.82729992 4.82364816 4.82005697 4.81652784 4.81306211\n",
      " 4.80966105 4.80632579 4.80305739 4.79985681 4.79672492 4.7936625\n",
      " 4.79067029 4.78774892 4.784899   4.78228054 4.78083971 4.7793967\n",
      " 4.77795326 4.77650952 4.77506557 4.77362153 4.7721775  4.7707336\n",
      " 4.76928992 4.76784657 4.76640364 4.76496124 4.76358287 4.76220539\n",
      " 4.76082896 4.75945365 4.75807956 4.75670679 4.75533535 4.75396536\n",
      " 4.75259689 4.75123001 4.7498648  4.74850132 4.74713965 4.74577985\n",
      " 4.74442199 4.74306614 4.74171236 4.7403607  4.73901124 4.73766403\n",
      " 4.73631913 4.7349766  4.73363649 4.73229886 4.73096377 4.72963127\n",
      " 4.72830141 4.72697424 4.72564981 4.72432816 4.72300936 4.72169344\n",
      " 4.72038045 4.71907044 4.71776345 4.71645952 4.71515869 4.71386101\n",
      " 4.71256652 4.71127526 4.70998726 4.70870256 4.70742121 4.70614323\n",
      " 4.70486867 4.70359755 4.70232992 4.70106581 4.69980524 4.69854825\n",
      " 4.69729488 4.69604514 4.69479909 4.69355673 4.6923181  4.69108324\n",
      " 4.68985216 4.68862489 4.68740147 4.68618191 4.68496624 4.68375449\n",
      " 4.68254667 4.68134283 4.68014296 4.67894711 4.67775529 4.67656752\n",
      " 4.67538383 4.67420423 4.67302874 4.67185739 4.6706902  4.66952717\n",
      " 4.66836834 4.66721372 4.66606332 4.66491717 4.66377527 4.66263766\n",
      " 4.66150433 4.66037532 4.65925062 4.65813027 4.65701427 4.65590264\n",
      " 4.65479539 4.65369253 4.65259408 4.65150005 4.65041046 4.64932531\n",
      " 4.64824462 4.6471684  4.64609666 4.64502941 4.64396666 4.64290843\n",
      " 4.64185472 4.64080554 4.63976091 4.63872083 4.63768531 4.63665437\n",
      " 4.635628   4.63460622 4.63358904 4.63257647 4.63156851 4.63056516\n",
      " 4.62956644 4.62857236 4.62758293 4.62659815 4.62561802 4.62464255\n",
      " 4.62367176 4.62270564 4.62174421 4.62078822 4.61983729 4.61889106\n",
      " 4.61794955 4.61701276 4.61608068 4.61515334 4.61423073 4.61331286\n",
      " 4.61239972 4.61149134 4.6105877  4.60968882 4.60879469 4.60790533\n",
      " 4.60702074 4.60614091 4.60526585 4.60439557 4.60353007 4.60266936\n",
      " 4.60181343 4.60096228 4.60011593 4.59927437 4.59843761 4.59760565\n",
      " 4.59677848 4.59595613 4.59513857 4.59432583 4.59351789 4.59271477\n",
      " 4.59191646 4.59112297 4.5903343  4.58955044 4.58877141 4.58799719\n",
      " 4.58722781 4.58646324 4.58570351 4.5849486  4.58419852 4.58345327\n",
      " 4.58271285 4.58197727 4.58124651 4.5805206  4.57979951 4.57829218\n",
      " 4.57912124 4.57993741 4.58074608 4.58155385 4.58236073 4.58316672\n",
      " 4.58397182 4.58477604 4.58557938 4.58638183 4.5871834  4.58798409\n",
      " 4.58878391 4.58958286 4.59038094 4.59117815 4.5919745  4.59276998\n",
      " 4.59356461 4.59435837 4.59515129 4.59594334 4.59673959 4.59754845\n",
      " 4.59835646 4.59916361 4.59996992 4.60077538 4.60158   ]\n"
     ]
    }
   ],
   "source": [
    "v_bulk, v_p, v_s = p_obj.calculate_seismic_velocities()\n",
    "print(v_s)"
   ]
  },
  {
   "cell_type": "code",
   "execution_count": null,
   "id": "9391f73a",
   "metadata": {},
   "outputs": [],
   "source": []
  }
 ],
 "metadata": {
  "kernelspec": {
   "display_name": "Python 3 (ipykernel)",
   "language": "python",
   "name": "python3"
  },
  "language_info": {
   "codemirror_mode": {
    "name": "ipython",
    "version": 3
   },
   "file_extension": ".py",
   "mimetype": "text/x-python",
   "name": "python",
   "nbconvert_exporter": "python",
   "pygments_lexer": "ipython3",
   "version": "3.10.12"
  }
 },
 "nbformat": 4,
 "nbformat_minor": 5
}
