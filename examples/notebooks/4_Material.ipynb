{
 "cells": [
  {
   "cell_type": "markdown",
   "id": "22963bd9-2d1a-4e4b-9b9f-13f0458001bf",
   "metadata": {},
   "source": [
    "## <span style=\"color:green\"> Notebook - Material Class </span>\n",
    "<span style=\"color:purple\">Sinan Ozaydin, School of Geosciences, The University of Sydney, NSW 2006, Australia <br/> </span>\n",
    "<span style=\"color:purple\">sinan.ozaydin@protonmail.com</span>"
   ]
  },
  {
   "cell_type": "markdown",
   "id": "ecaccff6-2810-468f-8f68-a0ec982046d7",
   "metadata": {},
   "source": [
    "In this notebook, we will learn how to use the material class in pide library. \n",
    "\n",
    "Material class is a "
   ]
  }
 ],
 "metadata": {
  "kernelspec": {
   "display_name": "Python 3 (ipykernel)",
   "language": "python",
   "name": "python3"
  },
  "language_info": {
   "codemirror_mode": {
    "name": "ipython",
    "version": 3
   },
   "file_extension": ".py",
   "mimetype": "text/x-python",
   "name": "python",
   "nbconvert_exporter": "python",
   "pygments_lexer": "ipython3",
   "version": "3.10.12"
  }
 },
 "nbformat": 4,
 "nbformat_minor": 5
}
